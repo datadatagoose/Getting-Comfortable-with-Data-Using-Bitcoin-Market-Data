{
 "cells": [
  {
   "cell_type": "markdown",
   "metadata": {},
   "source": [
    "<h1>Beginner: Getting Comfortable with Data, Using Bitcoin Market Data - Part 1 (Python)</h1>\n",
    "\n",
    "Looking back at 2017, there are a few things which stand out and Bitcoin is definitely one of them. The year 2017 was a roller coaster ride for Bitcoin. It had record highs and surpassed everyone's expectations.\n",
    "\n",
    "Let's try looking at Bitcoin market data and take this opportunity to really get to know what it means to get \"comfortable\" with data.\n",
    "\n",
    "If you're following my blog, then you probably just finished setting up your environment. If not, check out my post on <a href=\"https://datadatagoose.wordpress.com/2018/01/03/beginner-step-1-setting-up-your-data-environment-python/\"><i>how to setup a Python data environment</i></a>.\n",
    "\n",
    "<h2>Quick side step before moving ahead</h2>\n",
    "\n",
    "For this post, we're going to be using <b>Quandl - a platform for financial, economic, and alternative data that serves investment professionals</b>. We'll get our Bitcoin market data from this resource.\n",
    "\n",
    "Before we can get the data, we need to do a <b>quick installation of Quandl's Python package</b>. So how do we do that? Easy! Follow the 2 step process below, and it shouldn't take you more than a couple minutes:\n",
    "<b>\n",
    "1. Open up the <i>Anaconda Prompt</i> which was installed with the installation of Anaconda (Psst! If you haven't already installed Anaconda, you can always find out how to do that <a href=\"https://datadatagoose.wordpress.com/2018/01/03/beginner-step-1-setting-up-your-data-environment-python/\"><i>here</i></a>!) \n",
    "2. Type <i>pip install quandl</i>\n",
    "3. Let Anaconda do the rest =) !\n",
    "</b>\n",
    "\n",
    "That was easy, right?\n",
    "\n",
    "Alright, so now we have our environment and we can get access to a dataset. Let's begin with the fun stuff!\n",
    "\n",
    "<i>By the way, you can either copy and paste the code from here into your console in Spyder (my <a href=\"https://datadatagoose.wordpress.com/2018/01/03/beginner-step-1-setting-up-your-data-environment-python/\">post on how to setup your environment</a> shows where the console is located) or you can head on over to my <a href=\"https://github.com/datadatagoose/Getting-Comfortable-with-Data-Using-Bitcoin-Market-Data\">GitHub</a> and get the Jupyter Notebook for it.</i>\n",
    "\n",
    "<h2>Finally, we can have fun!</h2>\n",
    "\n",
    "First thing first, let's import the Quandl package we just installed. That way, we can use it in this tutorial."
   ]
  },
  {
   "cell_type": "code",
   "execution_count": 1,
   "metadata": {
    "collapsed": true
   },
   "outputs": [],
   "source": [
    "import quandl"
   ]
  },
  {
   "cell_type": "markdown",
   "metadata": {},
   "source": [
    "The following line is going to import the dataset from Quandl. I already took the liberty of finding a dataset which we can use for this post. I've never looked at this dataset before making this post, so this is just as new to me as it is to you. If you wish to take a look at the Quandl page where I found it, you can find it <a href=\"https://www.quandl.com/data/BCHARTS/ROCKUSD-Bitcoin-Markets-rockUSD\">here</a>.\n",
    "\n",
    "<b>To import the dataset, all you have to do is the following</b>"
   ]
  },
  {
   "cell_type": "code",
   "execution_count": 2,
   "metadata": {
    "collapsed": true
   },
   "outputs": [],
   "source": [
    "df = quandl.get('BCHARTS/ROCKUSD')"
   ]
  },
  {
   "cell_type": "markdown",
   "metadata": {},
   "source": [
    "Now that we have our dataset imported, <b>let's look at the columns contained in this dataset</b>."
   ]
  },
  {
   "cell_type": "code",
   "execution_count": 3,
   "metadata": {},
   "outputs": [
    {
     "data": {
      "text/plain": [
       "Index(['Open', 'High', 'Low', 'Close', 'Volume (BTC)', 'Volume (Currency)',\n",
       "       'Weighted Price'],\n",
       "      dtype='object')"
      ]
     },
     "execution_count": 3,
     "metadata": {},
     "output_type": "execute_result"
    }
   ],
   "source": [
    "df.columns"
   ]
  },
  {
   "cell_type": "markdown",
   "metadata": {},
   "source": [
    "Interesting. What we're seeing above is that this dataset seems to have 7 columns. Cool!\n",
    "\n",
    "<b>Let's look at the first 5 rows of the dataset.</b>"
   ]
  },
  {
   "cell_type": "code",
   "execution_count": 4,
   "metadata": {},
   "outputs": [
    {
     "data": {
      "text/html": [
       "<div>\n",
       "<style>\n",
       "    .dataframe thead tr:only-child th {\n",
       "        text-align: right;\n",
       "    }\n",
       "\n",
       "    .dataframe thead th {\n",
       "        text-align: left;\n",
       "    }\n",
       "\n",
       "    .dataframe tbody tr th {\n",
       "        vertical-align: top;\n",
       "    }\n",
       "</style>\n",
       "<table border=\"1\" class=\"dataframe\">\n",
       "  <thead>\n",
       "    <tr style=\"text-align: right;\">\n",
       "      <th></th>\n",
       "      <th>Open</th>\n",
       "      <th>High</th>\n",
       "      <th>Low</th>\n",
       "      <th>Close</th>\n",
       "      <th>Volume (BTC)</th>\n",
       "      <th>Volume (Currency)</th>\n",
       "      <th>Weighted Price</th>\n",
       "    </tr>\n",
       "    <tr>\n",
       "      <th>Date</th>\n",
       "      <th></th>\n",
       "      <th></th>\n",
       "      <th></th>\n",
       "      <th></th>\n",
       "      <th></th>\n",
       "      <th></th>\n",
       "      <th></th>\n",
       "    </tr>\n",
       "  </thead>\n",
       "  <tbody>\n",
       "    <tr>\n",
       "      <th>2011-11-12</th>\n",
       "      <td>2.85</td>\n",
       "      <td>3.01</td>\n",
       "      <td>2.85</td>\n",
       "      <td>3.01</td>\n",
       "      <td>7.50</td>\n",
       "      <td>22.255</td>\n",
       "      <td>2.967333</td>\n",
       "    </tr>\n",
       "    <tr>\n",
       "      <th>2011-11-13</th>\n",
       "      <td>2.96</td>\n",
       "      <td>2.96</td>\n",
       "      <td>2.96</td>\n",
       "      <td>2.96</td>\n",
       "      <td>1.00</td>\n",
       "      <td>2.960</td>\n",
       "      <td>2.960000</td>\n",
       "    </tr>\n",
       "    <tr>\n",
       "      <th>2011-11-14</th>\n",
       "      <td>3.00</td>\n",
       "      <td>3.00</td>\n",
       "      <td>2.74</td>\n",
       "      <td>2.74</td>\n",
       "      <td>6.55</td>\n",
       "      <td>18.868</td>\n",
       "      <td>2.880611</td>\n",
       "    </tr>\n",
       "    <tr>\n",
       "      <th>2011-11-15</th>\n",
       "      <td>0.00</td>\n",
       "      <td>0.00</td>\n",
       "      <td>0.00</td>\n",
       "      <td>0.00</td>\n",
       "      <td>0.00</td>\n",
       "      <td>0.000</td>\n",
       "      <td>0.000000</td>\n",
       "    </tr>\n",
       "    <tr>\n",
       "      <th>2011-11-16</th>\n",
       "      <td>0.00</td>\n",
       "      <td>0.00</td>\n",
       "      <td>0.00</td>\n",
       "      <td>0.00</td>\n",
       "      <td>0.00</td>\n",
       "      <td>0.000</td>\n",
       "      <td>0.000000</td>\n",
       "    </tr>\n",
       "  </tbody>\n",
       "</table>\n",
       "</div>"
      ],
      "text/plain": [
       "            Open  High   Low  Close  Volume (BTC)  Volume (Currency)  \\\n",
       "Date                                                                   \n",
       "2011-11-12  2.85  3.01  2.85   3.01          7.50             22.255   \n",
       "2011-11-13  2.96  2.96  2.96   2.96          1.00              2.960   \n",
       "2011-11-14  3.00  3.00  2.74   2.74          6.55             18.868   \n",
       "2011-11-15  0.00  0.00  0.00   0.00          0.00              0.000   \n",
       "2011-11-16  0.00  0.00  0.00   0.00          0.00              0.000   \n",
       "\n",
       "            Weighted Price  \n",
       "Date                        \n",
       "2011-11-12        2.967333  \n",
       "2011-11-13        2.960000  \n",
       "2011-11-14        2.880611  \n",
       "2011-11-15        0.000000  \n",
       "2011-11-16        0.000000  "
      ]
     },
     "execution_count": 4,
     "metadata": {},
     "output_type": "execute_result"
    }
   ],
   "source": [
    "df.head()"
   ]
  },
  {
   "cell_type": "markdown",
   "metadata": {},
   "source": [
    "Alright, so we're seeing that this dataset is sort of like a stock dataset. It shows Bitcoin's dollar value at certain days. (Imagine having invested back in 2011! I could have turned 1 dollar into thousands of dollars...)\n",
    "\n",
    "Everything seems all good and well, but hm... Didn't we just see above that there were 7 columns? Where did this 8th column by the name of <i>Date</i> come from? Good question.\n",
    "\n",
    "<b>The column <i>Date</i> is actually a special type of column for this dataset known as the index... but what's an index? An index conists of key values which help speed up the process of data retrieval.</b> An index is very useful, although not necessary, but one should try and get into the habit of having an index. Considering this is stock-like data, it makes sense that the unique date (you're not going to see a certain date show up more than once in this dataset) is set as the index.\n",
    "\n",
    "Good. Now that we cleared up that confusing issue, let's move forward.\n",
    "\n",
    "<b>Let's look at the data types for each column. This will help later on if we wish to do some arithmetic or other fancy stuff.</b>"
   ]
  },
  {
   "cell_type": "code",
   "execution_count": 5,
   "metadata": {},
   "outputs": [
    {
     "data": {
      "text/plain": [
       "Open                 float64\n",
       "High                 float64\n",
       "Low                  float64\n",
       "Close                float64\n",
       "Volume (BTC)         float64\n",
       "Volume (Currency)    float64\n",
       "Weighted Price       float64\n",
       "dtype: object"
      ]
     },
     "execution_count": 5,
     "metadata": {},
     "output_type": "execute_result"
    }
   ],
   "source": [
    "df.dtypes"
   ]
  },
  {
   "cell_type": "markdown",
   "metadata": {},
   "source": [
    "Good. As expected, the data types for the columns are float64. I'm not going to go over in this post why one should have the correct data types. That will probably be covered in another post, but until then, just know that it's a good thing =).\n",
    "\n",
    "<b>You can probably guess what's next. Since we're looking at data types, there's one \"column\" that is missing above. Yup, the index (i.e. the date in this dataset), so let's take a look at the data type for the index.</b>"
   ]
  },
  {
   "cell_type": "code",
   "execution_count": 6,
   "metadata": {},
   "outputs": [
    {
     "data": {
      "text/plain": [
       "DatetimeIndex(['2011-11-12', '2011-11-13', '2011-11-14', '2011-11-15',\n",
       "               '2011-11-16', '2011-11-17', '2011-11-18', '2011-11-19',\n",
       "               '2011-11-20', '2011-11-21',\n",
       "               ...\n",
       "               '2017-12-25', '2017-12-26', '2017-12-27', '2017-12-28',\n",
       "               '2017-12-29', '2017-12-30', '2017-12-31', '2018-01-01',\n",
       "               '2018-01-02', '2018-01-03'],\n",
       "              dtype='datetime64[ns]', name='Date', length=2245, freq=None)"
      ]
     },
     "execution_count": 6,
     "metadata": {},
     "output_type": "execute_result"
    }
   ],
   "source": [
    "df.index"
   ]
  },
  {
   "cell_type": "markdown",
   "metadata": {},
   "source": [
    "What we're seeing is that the first date stamp is November 12, 2011, and that the last date stamp is today's date (January 3, 2018). Keep in mind, this dataset gets new data daily and that your last date may differ than mine. \n",
    "\n",
    "<b>Also, the data type is of the time datetime64. Having it this way will help us to work with the data.</b>\n",
    "\n",
    "In our next post, we'll dive a little deeper and add some visualizations, that way, we'll really get a sense of how our data behaves."
   ]
  }
 ],
 "metadata": {
  "kernelspec": {
   "display_name": "Python 3",
   "language": "python",
   "name": "python3"
  },
  "language_info": {
   "codemirror_mode": {
    "name": "ipython",
    "version": 3
   },
   "file_extension": ".py",
   "mimetype": "text/x-python",
   "name": "python",
   "nbconvert_exporter": "python",
   "pygments_lexer": "ipython3",
   "version": "3.6.3"
  }
 },
 "nbformat": 4,
 "nbformat_minor": 2
}
